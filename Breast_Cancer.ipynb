{
 "cells": [
  {
   "cell_type": "code",
   "execution_count": null,
   "id": "34c5bd7c",
   "metadata": {},
   "outputs": [],
   "source": [
    "import pandas as pd\n",
    "import numpy as np"
   ]
  },
  {
   "cell_type": "code",
   "execution_count": null,
   "id": "f5d3be9b",
   "metadata": {},
   "outputs": [],
   "source": [
    "data=pd.read_csv(\"breast_dt.csv\")\n",
    "data.head(2)"
   ]
  },
  {
   "cell_type": "code",
   "execution_count": null,
   "id": "6590ca92-5f03-46b8-9a6d-c147c2d0eb50",
   "metadata": {},
   "outputs": [],
   "source": [
    "data.columns"
   ]
  },
  {
   "cell_type": "code",
   "execution_count": null,
   "id": "b314e588",
   "metadata": {},
   "outputs": [],
   "source": [
    "data.drop([\"Unnamed: 32\"],axis=\"columns\",inplace=True)\n",
    "data.drop([\"id\"],axis=\"columns\",inplace=True)"
   ]
  },
  {
   "cell_type": "code",
   "execution_count": null,
   "id": "b6046604",
   "metadata": {},
   "outputs": [],
   "source": [
    "a=pd.get_dummies(data[\"diagnosis\"])\n",
    "a.head(2)"
   ]
  },
  {
   "cell_type": "code",
   "execution_count": null,
   "id": "1f9797bb",
   "metadata": {},
   "outputs": [],
   "source": [
    "breast_can=pd.concat([data,a],axis=\"columns\")\n",
    "breast_can.drop([\"diagnosis\",\"B\"],axis=\"columns\",inplace=True)"
   ]
  },
  {
   "cell_type": "code",
   "execution_count": null,
   "id": "0cbcce87",
   "metadata": {
    "scrolled": true
   },
   "outputs": [],
   "source": [
    "breast_can.head(2)"
   ]
  },
  {
   "cell_type": "code",
   "execution_count": null,
   "id": "99156c0f",
   "metadata": {},
   "outputs": [],
   "source": [
    "breast_can.rename(columns={\"M\":\"Malignant/Benign\"},inplace=True)\n",
    "breast_can"
   ]
  },
  {
   "cell_type": "code",
   "execution_count": null,
   "id": "1cc8b8b2",
   "metadata": {},
   "outputs": [],
   "source": [
    "x=breast_can.iloc[:,0:30]\n",
    "y=breast_can[[\"Malignant/Benign\"]]"
   ]
  },
  {
   "cell_type": "code",
   "execution_count": null,
   "id": "b994a718",
   "metadata": {},
   "outputs": [],
   "source": [
    "print(x.shape[1])"
   ]
  },
  {
   "cell_type": "code",
   "execution_count": null,
   "id": "67a11b40",
   "metadata": {},
   "outputs": [],
   "source": [
    "x=np.array(x)\n",
    "y=np.array(y)"
   ]
  },
  {
   "cell_type": "code",
   "execution_count": null,
   "id": "f4e447bb",
   "metadata": {},
   "outputs": [],
   "source": [
    "from sklearn.model_selection import train_test_split"
   ]
  },
  {
   "cell_type": "code",
   "execution_count": null,
   "id": "68c2ba45",
   "metadata": {},
   "outputs": [],
   "source": [
    "x_train,x_test,y_train,y_test=train_test_split(x,y,test_size=0.2,stratify=y,random_state=9)"
   ]
  },
  {
   "cell_type": "code",
   "execution_count": null,
   "id": "ad36f57d",
   "metadata": {},
   "outputs": [],
   "source": [
    "x_train.shape,x_test.shape"
   ]
  },
  {
   "cell_type": "code",
   "execution_count": null,
   "id": "5b9f9e46",
   "metadata": {},
   "outputs": [],
   "source": [
    "from sklearn.linear_model import LogisticRegression"
   ]
  },
  {
   "cell_type": "code",
   "execution_count": null,
   "id": "f01cf76d",
   "metadata": {},
   "outputs": [],
   "source": [
    "model=LogisticRegression()"
   ]
  },
  {
   "cell_type": "code",
   "execution_count": null,
   "id": "2c171361",
   "metadata": {},
   "outputs": [],
   "source": [
    "model.fit(x_train,y_train)"
   ]
  },
  {
   "cell_type": "code",
   "execution_count": null,
   "id": "8007b26e",
   "metadata": {},
   "outputs": [],
   "source": [
    "from sklearn.metrics import accuracy_score"
   ]
  },
  {
   "cell_type": "code",
   "execution_count": null,
   "id": "7bfeef37",
   "metadata": {},
   "outputs": [],
   "source": [
    "#accuracy on training data\n",
    "x_train_prediction=model.predict(x_train)\n",
    "training_data_accuracy=accuracy_score(x_train_prediction,y_train)\n",
    "print(\"Accuracy of training data:\",training_data_accuracy*100)"
   ]
  },
  {
   "cell_type": "code",
   "execution_count": null,
   "id": "e77ac1ee",
   "metadata": {},
   "outputs": [],
   "source": [
    "#accuracy on testing data\n",
    "x_test_prediction=model.predict(x_test)\n",
    "testing_data_accuracy=accuracy_score(x_test_prediction,y_test)\n",
    "print(\"Accuracy of test data:\",testing_data_accuracy*100)"
   ]
  },
  {
   "cell_type": "code",
   "execution_count": null,
   "id": "027372fa",
   "metadata": {},
   "outputs": [],
   "source": [
    "#predictive system\n",
    "input_data = (7.76,24.54,47.92,181,0.05263,0.04362,0,0,0.1587,0.05884,0.3857,1.428,2.548,19.15,0.007189,0.00466,0,0,0.02676,0.002783,9.456,30.37,59.16,268.6,0.08996,0.06444,0,0,0.2871,0.07039)\n",
    "\n",
    "input_data_as_numpy_array= np.asarray(input_data)\n",
    "\n",
    "input_data_reshaped = input_data_as_numpy_array.reshape(1,-1)\n",
    "\n",
    "prediction = model.predict(input_data_reshaped)\n",
    "print(prediction)\n",
    "\n",
    "if (prediction[0]== 0):\n",
    "    print('The Person does not have a Breast Cancer')\n",
    "else:\n",
    "    print('The Person has Breast Cancer')"
   ]
  },
  {
   "cell_type": "code",
   "execution_count": null,
   "id": "fb99989b",
   "metadata": {},
   "outputs": [],
   "source": [
    "import pickle"
   ]
  },
  {
   "cell_type": "code",
   "execution_count": null,
   "id": "e957c6ae-3d59-4fa3-8820-21dfa2843bab",
   "metadata": {},
   "outputs": [],
   "source": [
    "filename='Breast_cancer_model.sav'\n",
    "pickle.dump(model,open(filename,'wb'))"
   ]
  },
  {
   "cell_type": "code",
   "execution_count": null,
   "id": "60ca0dbe-8d94-40fc-86c5-186590737392",
   "metadata": {},
   "outputs": [],
   "source": [
    "loaded_model=pickle.load(open('Breast_cancer_model.sav','rb'))"
   ]
  },
  {
   "cell_type": "code",
   "execution_count": null,
   "id": "87f45ac7-2a7d-453c-a8ec-e6db9b3ca73f",
   "metadata": {},
   "outputs": [],
   "source": [
    "loaded_model"
   ]
  },
  {
   "cell_type": "code",
   "execution_count": null,
   "id": "49a54b88-1786-49c6-933c-88f126986a58",
   "metadata": {},
   "outputs": [],
   "source": []
  },
  {
   "cell_type": "code",
   "execution_count": null,
   "id": "49bc2517-1607-41dc-a559-754a8916bab0",
   "metadata": {},
   "outputs": [],
   "source": []
  }
 ],
 "metadata": {
  "kernelspec": {
   "display_name": "Python 3 (ipykernel)",
   "language": "python",
   "name": "python3"
  },
  "language_info": {
   "codemirror_mode": {
    "name": "ipython",
    "version": 3
   },
   "file_extension": ".py",
   "mimetype": "text/x-python",
   "name": "python",
   "nbconvert_exporter": "python",
   "pygments_lexer": "ipython3",
   "version": "3.11.7"
  }
 },
 "nbformat": 4,
 "nbformat_minor": 5
}
